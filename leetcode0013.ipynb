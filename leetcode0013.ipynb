{
 "cells": [
  {
   "cell_type": "code",
   "execution_count": 54,
   "metadata": {},
   "outputs": [],
   "source": [
    "# 0013 Roman to Integer\n",
    "\n",
    "# Given a roman numeral, convert it to an integer.\n",
    "\n",
    "class Solution:\n",
    "    def romanToInt(self, s: str) -> int:\n",
    "        \n",
    "        # Create a dictionary with all the corresponding roman numeral values\n",
    "        roman_numeral = {'I':1, 'V':5, 'X':10, 'L':50, 'C':100, 'D':500, 'M':1000}\n",
    "\n",
    "        # Create a corresponding list\n",
    "        roman_numeral_list = ['I', 'V', 'X', 'L', 'C', 'D', 'M']\n",
    "\n",
    "        # Creates a count variable that tallies up all the roman numeral values\n",
    "        count = 0\n",
    "\n",
    "        # Creates a list of each roman numeral character \n",
    "        characters = list(s)\n",
    "\n",
    "        # A variable used to detect if one character of the roman numerals is part of another (ex. IV and CM)\n",
    "        variable = 0\n",
    "\n",
    "        # Goes through each roman numeral character, from left to right, also checking whether there are two digit values ^^\n",
    "        for i in range(0, len(characters)-1):\n",
    "            if variable == 1:\n",
    "                variable = 0\n",
    "                continue\n",
    "            elif roman_numeral[characters[i+1]] > roman_numeral[characters[i]]:\n",
    "                count += (roman_numeral[characters[i+1]] - roman_numeral[characters[i]])\n",
    "                variable = 1\n",
    "            else:\n",
    "                count += roman_numeral[characters[i]]\n",
    "        \n",
    "\n",
    "        # Given the limitations of the for functions \n",
    "        # Return the last (missing) character from the roman numerals given how long the roman numeral is. \n",
    "        if len(characters) >= 2:\n",
    "            if roman_numeral[characters[-1]] <= roman_numeral[characters[-2]]:\n",
    "                count += roman_numeral[characters[-1]]\n",
    "\n",
    "        if len(characters) == 1:\n",
    "            count += roman_numeral[characters[0]]\n",
    "        \n",
    "        return(count)"
   ]
  }
 ],
 "metadata": {
  "kernelspec": {
   "display_name": "Python 3",
   "language": "python",
   "name": "python3"
  },
  "language_info": {
   "codemirror_mode": {
    "name": "ipython",
    "version": 3
   },
   "file_extension": ".py",
   "mimetype": "text/x-python",
   "name": "python",
   "nbconvert_exporter": "python",
   "pygments_lexer": "ipython3",
   "version": "3.10.6"
  },
  "orig_nbformat": 4,
  "vscode": {
   "interpreter": {
    "hash": "aee8b7b246df8f9039afb4144a1f6fd8d2ca17a180786b69acc140d282b71a49"
   }
  }
 },
 "nbformat": 4,
 "nbformat_minor": 2
}
