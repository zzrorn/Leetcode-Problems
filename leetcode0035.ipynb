{
 "cells": [
  {
   "cell_type": "code",
   "execution_count": 69,
   "metadata": {},
   "outputs": [],
   "source": [
    "# 0035 Search Insert Position\n",
    "\n",
    "# Given a sorted array of distince integers and a target value, return the index if the target is found. If not, return the index where it would be if found. \n",
    "\n",
    "def searchInsert(nums, target):\n",
    "    # Starts at the end of the list, and checks whether the number is less than target\n",
    "    # If number is less than target, we return the value of the number's index + 1\n",
    "    for i in reversed(range(len(nums))):\n",
    "        print(i)\n",
    "        # If the number is equal to target, we return the number's index\n",
    "        if target == nums[i]:\n",
    "            return(i)\n",
    "        elif target > nums[i]:\n",
    "            return(i+1)\n",
    "    # If the number is smaller than all numbers in the list, the for loop wouldn't have been able to return anything, so we ultimately return 0, for index 0\n",
    "    return(0)"
   ]
  }
 ],
 "metadata": {
  "kernelspec": {
   "display_name": "Python 3",
   "language": "python",
   "name": "python3"
  },
  "language_info": {
   "codemirror_mode": {
    "name": "ipython",
    "version": 3
   },
   "file_extension": ".py",
   "mimetype": "text/x-python",
   "name": "python",
   "nbconvert_exporter": "python",
   "pygments_lexer": "ipython3",
   "version": "3.10.6"
  },
  "orig_nbformat": 4,
  "vscode": {
   "interpreter": {
    "hash": "aee8b7b246df8f9039afb4144a1f6fd8d2ca17a180786b69acc140d282b71a49"
   }
  }
 },
 "nbformat": 4,
 "nbformat_minor": 2
}
