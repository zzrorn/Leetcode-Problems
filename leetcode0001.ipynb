{
 "cells": [
  {
   "cell_type": "code",
   "execution_count": null,
   "metadata": {},
   "outputs": [],
   "source": [
    "# 0001 Two Sum\n",
    "\n",
    "# Given an array of integers 'nums' and a integer 'target', return indicies of the two numbers such that they add up to the target\n",
    "\n",
    "class Solution:\n",
    "    def twoSum(self, nums: List[int], target: int) -> List[int]:\n",
    "\n",
    "        dictionary = {}\n",
    "\n",
    "        # Using enumerate to get each index and its corresponding value \n",
    "        for index, value in enumerate(nums):\n",
    "            difference = target - value\n",
    "            \n",
    "            # If the difference isn't in the dictionary, we save the current value as a key (with index as value)\n",
    "            # When our difference is equal to a value in the dictionary, that means the current value and a previously entered value \\\n",
    "            # complements eachother to equal the target. So we can return the correct index values, one from the dictionary, and the other \\\n",
    "            # from the current for loop using enumerate.\n",
    "            if difference in dictionary:\n",
    "                return [dictionary[difference], index]\n",
    "            else:\n",
    "                dictionary[value] = index"
   ]
  }
 ],
 "metadata": {
  "kernelspec": {
   "display_name": "Python 3",
   "language": "python",
   "name": "python3"
  },
  "language_info": {
   "name": "python",
   "version": "3.10.6 (v3.10.6:9c7b4bd164, Aug  1 2022, 17:13:48) [Clang 13.0.0 (clang-1300.0.29.30)]"
  },
  "orig_nbformat": 4,
  "vscode": {
   "interpreter": {
    "hash": "aee8b7b246df8f9039afb4144a1f6fd8d2ca17a180786b69acc140d282b71a49"
   }
  }
 },
 "nbformat": 4,
 "nbformat_minor": 2
}
