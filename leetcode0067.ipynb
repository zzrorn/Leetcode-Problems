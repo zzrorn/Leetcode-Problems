{
 "cells": [
  {
   "cell_type": "code",
   "execution_count": 30,
   "metadata": {},
   "outputs": [],
   "source": [
    "# 0067 Add Binary\n",
    "\n",
    "# Given two binary strings a and b, return the sum as a binary string\n",
    "\n",
    "def addBinary(a, b):\n",
    "\n",
    "    # Converts string a and b into binary through int(_,2) because binary is base 2\n",
    "    a = int(a,2)\n",
    "    b = int(b,2)\n",
    "    answer = a + b\n",
    "\n",
    "    # Remove the first 2 characters of conversion because they're not part of binary value\n",
    "    binaryAnswer = bin(answer)[2:]\n",
    "\n",
    "    return(binaryAnswer)\n",
    "\n",
    "\n"
   ]
  }
 ],
 "metadata": {
  "kernelspec": {
   "display_name": "Python 3",
   "language": "python",
   "name": "python3"
  },
  "language_info": {
   "codemirror_mode": {
    "name": "ipython",
    "version": 3
   },
   "file_extension": ".py",
   "mimetype": "text/x-python",
   "name": "python",
   "nbconvert_exporter": "python",
   "pygments_lexer": "ipython3",
   "version": "3.10.6"
  },
  "orig_nbformat": 4,
  "vscode": {
   "interpreter": {
    "hash": "aee8b7b246df8f9039afb4144a1f6fd8d2ca17a180786b69acc140d282b71a49"
   }
  }
 },
 "nbformat": 4,
 "nbformat_minor": 2
}
