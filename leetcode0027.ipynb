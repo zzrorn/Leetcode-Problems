{
 "cells": [
  {
   "cell_type": "code",
   "execution_count": 32,
   "metadata": {},
   "outputs": [],
   "source": [
    "# 0027 Remove Element\n",
    "\n",
    "# Given an integer array nums, and an integer val, remove all occurances of val in nums\n",
    "\n",
    "def removeElement(nums, val):\n",
    "    # Starts at the end of the list, and removed the value given it's equal to val\n",
    "    for i in reversed(range(len(nums))):\n",
    "        if nums[i] == val:\n",
    "            nums.pop(i)\n",
    "\n",
    "    # Returns the length of the adjusted list\n",
    "    return(len(nums))"
   ]
  }
 ],
 "metadata": {
  "kernelspec": {
   "display_name": "Python 3",
   "language": "python",
   "name": "python3"
  },
  "language_info": {
   "codemirror_mode": {
    "name": "ipython",
    "version": 3
   },
   "file_extension": ".py",
   "mimetype": "text/x-python",
   "name": "python",
   "nbconvert_exporter": "python",
   "pygments_lexer": "ipython3",
   "version": "3.10.6"
  },
  "orig_nbformat": 4,
  "vscode": {
   "interpreter": {
    "hash": "aee8b7b246df8f9039afb4144a1f6fd8d2ca17a180786b69acc140d282b71a49"
   }
  }
 },
 "nbformat": 4,
 "nbformat_minor": 2
}
