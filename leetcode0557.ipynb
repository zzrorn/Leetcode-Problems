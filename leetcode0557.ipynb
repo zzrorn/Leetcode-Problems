{
 "cells": [
  {
   "cell_type": "code",
   "execution_count": null,
   "metadata": {},
   "outputs": [],
   "source": [
    "# 0557 Reverse Words in a String III\n",
    "\n",
    "# Given a string 's', reverse the order of characters in each word within a sentence while still perserving whitespace \\\n",
    "# and initial word order.\n",
    "\n",
    "class Solution:\n",
    "    def reverseWords(self, s: str) -> str:\n",
    "\n",
    "        # Returns the same solution as below. \n",
    "        # for each word in our string 's', we reverse them through [::-1], and join each reversed word with: \" \".join\n",
    "        return \" \".join([word[::-1] for word in s.split()])\n",
    "\n",
    "        # Alternative solution\n",
    "        \"\"\"  \n",
    "        # Creates a empty string for us to store our created reverse string\n",
    "        reversed_string = \"\"\n",
    "\n",
    "        # For each word in our string 's', we add its characters backwards through a for loop, then add a space: \" \"\n",
    "        for word in s.split():\n",
    "            for character in range(len(word)):\n",
    "                reversed_string += word[len(word)-1-character]\n",
    "            reversed_string += \" \"\n",
    "\n",
    "        # Returns our string, but removes the last character (an empty space): \" \" through slicing    \n",
    "        return reversed_string[:-1]\n",
    "        \"\"\"  \n"
   ]
  }
 ],
 "metadata": {
  "kernelspec": {
   "display_name": "Python 3",
   "language": "python",
   "name": "python3"
  },
  "language_info": {
   "name": "python",
   "version": "3.10.6"
  },
  "orig_nbformat": 4,
  "vscode": {
   "interpreter": {
    "hash": "aee8b7b246df8f9039afb4144a1f6fd8d2ca17a180786b69acc140d282b71a49"
   }
  }
 },
 "nbformat": 4,
 "nbformat_minor": 2
}
