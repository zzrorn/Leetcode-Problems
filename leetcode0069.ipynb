{
 "cells": [
  {
   "cell_type": "code",
   "execution_count": 26,
   "metadata": {},
   "outputs": [],
   "source": [
    "# 0069 Sqrt(x)\n",
    "\n",
    "# Given a non-negative integer x, return the square root of x, rounded down to the nearest integer\n",
    "# Note: long runtime\n",
    "\n",
    "def mySqrt(x):\n",
    "    # If our integer is 0, we will return 0\n",
    "    if x == 0:\n",
    "        return(0)\n",
    "    \n",
    "    # Test each number smaller than x, starting at 1, acending by 1\n",
    "    # If the number, squared, is equal to our x value, we return the number (i)\n",
    "    # If the number, squared, it greater than our x value, we return the previous number (i-1)\n",
    "\n",
    "    for i in range(x + 1):\n",
    "        if i*i==x:\n",
    "            return(i)\n",
    "        elif i*i > x:\n",
    "            return(i-1)\n"
   ]
  }
 ],
 "metadata": {
  "kernelspec": {
   "display_name": "Python 3",
   "language": "python",
   "name": "python3"
  },
  "language_info": {
   "codemirror_mode": {
    "name": "ipython",
    "version": 3
   },
   "file_extension": ".py",
   "mimetype": "text/x-python",
   "name": "python",
   "nbconvert_exporter": "python",
   "pygments_lexer": "ipython3",
   "version": "3.10.6"
  },
  "orig_nbformat": 4,
  "vscode": {
   "interpreter": {
    "hash": "aee8b7b246df8f9039afb4144a1f6fd8d2ca17a180786b69acc140d282b71a49"
   }
  }
 },
 "nbformat": 4,
 "nbformat_minor": 2
}
