{
 "cells": [
  {
   "cell_type": "code",
   "execution_count": 15,
   "metadata": {},
   "outputs": [],
   "source": [
    "# 0020 Valid Parentheses\n",
    "\n",
    "# Given a string s containing just the characters '(', ')', '{', '}', '[', ']', determine if the input string is valid.\n",
    "\n",
    "\n",
    "def isValid(s):\n",
    "\n",
    "    # Checking if our answer is correct with a stacking method\n",
    "    stack = []\n",
    "    dict = {'(':')', '{':'}', '[':']'}\n",
    "\n",
    "    for char in s:\n",
    "        if char in dict:\n",
    "            stack.append(char)\n",
    "        # Return False if the stack IS empty OR the character doesn't follow the stack pattern.\n",
    "        elif not stack or dict[stack.pop()] != char:\n",
    "            return False\n",
    "        \n",
    "    # If the stack at the end is empty, that means that the format is correct, we return True\n",
    "    return len(stack) == 0\n"
   ]
  }
 ],
 "metadata": {
  "kernelspec": {
   "display_name": "base",
   "language": "python",
   "name": "python3"
  },
  "language_info": {
   "codemirror_mode": {
    "name": "ipython",
    "version": 3
   },
   "file_extension": ".py",
   "mimetype": "text/x-python",
   "name": "python",
   "nbconvert_exporter": "python",
   "pygments_lexer": "ipython3",
   "version": "3.9.12"
  },
  "orig_nbformat": 4,
  "vscode": {
   "interpreter": {
    "hash": "0e8fde4d8098356b2a9f1d2d1bef0e2fc2bbe198c1cfb766b1472ad38e397fd3"
   }
  }
 },
 "nbformat": 4,
 "nbformat_minor": 2
}
