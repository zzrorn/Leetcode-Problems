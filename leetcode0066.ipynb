{
 "cells": [
  {
   "cell_type": "code",
   "execution_count": 57,
   "metadata": {},
   "outputs": [],
   "source": [
    "# 0066 Plus One\n",
    "\n",
    "# Given a large integer represented as a array of digits, return the new array when we increase the value of the integer by 1\n",
    "\n",
    "def plusOne(digits):\n",
    "\n",
    "    # Converts the array into the integer number which it represents\n",
    "    x = 0\n",
    "    for i in range(len(digits)):\n",
    "        x += (digits[i]*(pow(10, len(digits)-i-1)))\n",
    "    x+=1\n",
    "\n",
    "    # Convert the integer into a string\n",
    "    x = str(x)\n",
    "\n",
    "    # For each character in our string number, we convert it to a integer and added to to a list to be returned\n",
    "    return(list(int(i) for i in x))"
   ]
  }
 ],
 "metadata": {
  "kernelspec": {
   "display_name": "Python 3",
   "language": "python",
   "name": "python3"
  },
  "language_info": {
   "codemirror_mode": {
    "name": "ipython",
    "version": 3
   },
   "file_extension": ".py",
   "mimetype": "text/x-python",
   "name": "python",
   "nbconvert_exporter": "python",
   "pygments_lexer": "ipython3",
   "version": "3.10.6"
  },
  "orig_nbformat": 4,
  "vscode": {
   "interpreter": {
    "hash": "aee8b7b246df8f9039afb4144a1f6fd8d2ca17a180786b69acc140d282b71a49"
   }
  }
 },
 "nbformat": 4,
 "nbformat_minor": 2
}
