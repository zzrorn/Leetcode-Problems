{
 "cells": [
  {
   "cell_type": "code",
   "execution_count": null,
   "metadata": {},
   "outputs": [],
   "source": [
    "# 0021 Merge Two Sorted Lists (listnodes)\n",
    "\n",
    "# Given two sorted linked lists, merge the two lists into one sorted list, return the head of the merged linked list\n",
    "\n",
    "\n",
    "# Definition for singly-linked list.\n",
    "# class ListNode:\n",
    "#     def __init__(self, val=0, next=None):\n",
    "#         self.val = val\n",
    "#         self.next = next\n",
    "\n",
    "def mergeTwoLists(list1, list2):\n",
    "    # Uses a dummy variable to store the the merged linked list?\n",
    "    cur = dummy = ListNode()\n",
    "    while list1 and list2:               \n",
    "        if list1.val < list2.val:\n",
    "            cur.next = list1\n",
    "            cur = cur.next; list1 = list1.next;\n",
    "        else:\n",
    "            cur.next = list2\n",
    "            cur = cur.next; list2 = list2.next;\n",
    "            \n",
    "    if list1 or list2:\n",
    "        cur.next = list1 if list1 else list2\n",
    "        \n",
    "    # Returns the head of the linked list?\n",
    "    return dummy.next"
   ]
  }
 ],
 "metadata": {
  "kernelspec": {
   "display_name": "Python 3",
   "language": "python",
   "name": "python3"
  },
  "language_info": {
   "codemirror_mode": {
    "name": "ipython",
    "version": 3
   },
   "file_extension": ".py",
   "mimetype": "text/x-python",
   "name": "python",
   "nbconvert_exporter": "python",
   "pygments_lexer": "ipython3",
   "version": "3.10.6"
  },
  "orig_nbformat": 4,
  "vscode": {
   "interpreter": {
    "hash": "aee8b7b246df8f9039afb4144a1f6fd8d2ca17a180786b69acc140d282b71a49"
   }
  }
 },
 "nbformat": 4,
 "nbformat_minor": 2
}
