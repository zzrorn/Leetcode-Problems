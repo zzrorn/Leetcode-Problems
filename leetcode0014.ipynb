{
 "cells": [
  {
   "cell_type": "code",
   "execution_count": 41,
   "metadata": {},
   "outputs": [],
   "source": [
    "# 0014 Longest Common Prefix\n",
    "\n",
    "# Write a function to find the longest common prefix string amongst an array of strings. If none, return \"\".\n",
    "\n",
    "def longestCommonPrefix(strs):\n",
    "\n",
    "    # Counts the length of the smallest string\n",
    "    minimum = len(min(strs, key = len))\n",
    "    \n",
    "    # Initial variables for the for loop below\n",
    "    prefix = \"\"\n",
    "    corresponding_characters = []\n",
    "\n",
    "    # For each necessary character, for each word, see if the characters correspond to eachother. \\ \n",
    "    # If the characters match, add them to the string: prefix\n",
    "    for i in range(minimum):\n",
    "        for j in strs:\n",
    "            corresponding_characters.append(j[i])\n",
    "        if len(set(corresponding_characters)) == 1:\n",
    "            prefix += corresponding_characters[0]\n",
    "            # We reset it, so that we compare only the corresponding characters for each word\n",
    "            corresponding_characters = []\n",
    "                    \n",
    "    return(prefix)\n",
    "                "
   ]
  }
 ],
 "metadata": {
  "kernelspec": {
   "display_name": "base",
   "language": "python",
   "name": "python3"
  },
  "language_info": {
   "codemirror_mode": {
    "name": "ipython",
    "version": 3
   },
   "file_extension": ".py",
   "mimetype": "text/x-python",
   "name": "python",
   "nbconvert_exporter": "python",
   "pygments_lexer": "ipython3",
   "version": "3.9.12"
  },
  "orig_nbformat": 4,
  "vscode": {
   "interpreter": {
    "hash": "0e8fde4d8098356b2a9f1d2d1bef0e2fc2bbe198c1cfb766b1472ad38e397fd3"
   }
  }
 },
 "nbformat": 4,
 "nbformat_minor": 2
}
