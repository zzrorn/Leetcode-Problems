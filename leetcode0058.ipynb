{
 "cells": [
  {
   "cell_type": "code",
   "execution_count": 5,
   "metadata": {},
   "outputs": [],
   "source": [
    "# 0058 Length of Last Word\n",
    "\n",
    "# Given a string s, return the length of the last word in the string\n",
    "\n",
    "def lengthOfLastWord(s):\n",
    "    # Removes the empty space in front and after the sentence\n",
    "    s = s.strip()\n",
    "\n",
    "    # Represent each word as a element in the list: listofWords through split()\n",
    "    listofWords = s.split(\" \")\n",
    "\n",
    "    # Return the lenght of the last word in the list\n",
    "    return(len(listofWords.pop()))\n"
   ]
  }
 ],
 "metadata": {
  "kernelspec": {
   "display_name": "Python 3",
   "language": "python",
   "name": "python3"
  },
  "language_info": {
   "codemirror_mode": {
    "name": "ipython",
    "version": 3
   },
   "file_extension": ".py",
   "mimetype": "text/x-python",
   "name": "python",
   "nbconvert_exporter": "python",
   "pygments_lexer": "ipython3",
   "version": "3.10.6"
  },
  "orig_nbformat": 4,
  "vscode": {
   "interpreter": {
    "hash": "aee8b7b246df8f9039afb4144a1f6fd8d2ca17a180786b69acc140d282b71a49"
   }
  }
 },
 "nbformat": 4,
 "nbformat_minor": 2
}
